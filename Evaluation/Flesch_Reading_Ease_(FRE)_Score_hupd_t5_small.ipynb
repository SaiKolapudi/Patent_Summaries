{
  "nbformat": 4,
  "nbformat_minor": 0,
  "metadata": {
    "colab": {
      "provenance": []
    },
    "kernelspec": {
      "name": "python3",
      "display_name": "Python 3"
    },
    "language_info": {
      "name": "python"
    }
  },
  "cells": [
    {
      "cell_type": "code",
      "source": [
        "!pip install openpyxl textstat\n"
      ],
      "metadata": {
        "colab": {
          "base_uri": "https://localhost:8080/"
        },
        "id": "eukJxn9oSY7t",
        "outputId": "1a1a332d-b0a4-41ae-c95d-e1d49c3195c4"
      },
      "execution_count": 2,
      "outputs": [
        {
          "output_type": "stream",
          "name": "stdout",
          "text": [
            "Requirement already satisfied: openpyxl in /usr/local/lib/python3.10/dist-packages (3.0.10)\n",
            "Requirement already satisfied: textstat in /usr/local/lib/python3.10/dist-packages (0.7.3)\n",
            "Requirement already satisfied: et-xmlfile in /usr/local/lib/python3.10/dist-packages (from openpyxl) (1.1.0)\n",
            "Requirement already satisfied: pyphen in /usr/local/lib/python3.10/dist-packages (from textstat) (0.14.0)\n"
          ]
        }
      ]
    },
    {
      "cell_type": "markdown",
      "source": [
        "The Flesch Reading Ease (FRE) score ranges from 0 to 100. Higher scores indicate material that is easier to read; lower numbers mark passages that are more complex and harder to read. Here's a general interpretation of the Flesch Reading Ease scores:\n",
        "\n",
        "90-100: Very Easy to read, easily understood by an average 11-year-old student.\n",
        "80-89: Easy to read.\n",
        "70-79: Fairly easy to read.\n",
        "60-69: Standard, Plain English, easily understood by 13- to 15-year-old students.\n",
        "50-59: Fairly difficult to read.\n",
        "30-49: Difficult to read.\n",
        "0-29: Very difficult to read, best understood by university graduates.\n",
        "\n",
        "With an average FRE score of approximately 17, the text is considered very difficult to read and is best understood by university graduates. Such a score might be common in scientific papers, legal documents, or technical documents which use specialized terminology and complex sentence structures."
      ],
      "metadata": {
        "id": "OUBBolMMUVkl"
      }
    },
    {
      "cell_type": "code",
      "source": [
        "#abstract FRE score\n",
        "\n",
        "import pandas as pd\n",
        "import textstat\n",
        "from tqdm import tqdm\n",
        "import re\n",
        "\n",
        "# Load the DataFrame from the Excel file\n",
        "input_file = \"abstract_summary_t5-small_Score.xlsx\"\n",
        "df = pd.read_excel(input_file)\n",
        "\n",
        "# Define list to store the Flesch Reading Ease scores\n",
        "fre_scores = []\n",
        "\n",
        "# Iterate over the rows in the DataFrame with a progress bar\n",
        "for index, row in tqdm(df.iterrows(), total=len(df), desc=\"Calculating Scores\"):\n",
        "    # Get the generated summary\n",
        "    abstract_summary = str(row['Abstract_Summary'])\n",
        "\n",
        "    # Clean the abstract summary text\n",
        "    abstract_summary = re.sub(r'[^\\x00-\\x7F]+', '', abstract_summary)\n",
        "\n",
        "    # Calculate Flesch Reading Ease score\n",
        "    fre_score = textstat.flesch_reading_ease(abstract_summary)\n",
        "\n",
        "    # Append the score to the list\n",
        "    fre_scores.append(fre_score)\n",
        "\n",
        "# Add the FRE scores to the DataFrame\n",
        "df['FRE_Score'] = fre_scores\n",
        "\n",
        "# Save the updated DataFrame to a new Excel file\n",
        "output_file = \"Summary_FRE_Scores_t5_small_abstract.xlsx\"\n",
        "df.to_excel(output_file, index=False)\n",
        "\n",
        "# Print the average FRE score\n",
        "print(\"\\nAverage Flesch Reading Ease Score for Abstract Summary:\", sum(fre_scores) / len(fre_scores))\n"
      ],
      "metadata": {
        "colab": {
          "base_uri": "https://localhost:8080/"
        },
        "id": "oRqVGU4sOS6T",
        "outputId": "a00f8120-bfbf-48d9-91da-5520a66149c2"
      },
      "execution_count": 5,
      "outputs": [
        {
          "output_type": "stream",
          "name": "stderr",
          "text": [
            "Calculating Scores: 100%|██████████| 50/50 [00:00<00:00, 5935.22it/s]"
          ]
        },
        {
          "output_type": "stream",
          "name": "stdout",
          "text": [
            "\n",
            "Average Flesch Reading Ease Score for Abstract Summary: 17.058199999999996\n"
          ]
        },
        {
          "output_type": "stream",
          "name": "stderr",
          "text": [
            "\n"
          ]
        }
      ]
    },
    {
      "cell_type": "code",
      "source": [
        "#claims FRE score\n",
        "\n",
        "import pandas as pd\n",
        "import textstat\n",
        "from tqdm import tqdm\n",
        "import re\n",
        "\n",
        "# Load the DataFrame from the Excel file\n",
        "input_file = \"abstract_summary_t5-small_Score.xlsx\"\n",
        "df = pd.read_excel(input_file)\n",
        "\n",
        "# Define list to store the Flesch Reading Ease scores\n",
        "fre_scores = []\n",
        "\n",
        "# Iterate over the rows in the DataFrame with a progress bar\n",
        "for index, row in tqdm(df.iterrows(), total=len(df), desc=\"Calculating Scores\"):\n",
        "    # Get the generated summary\n",
        "    abstract_summary = str(row['Abstract_Summary'])\n",
        "\n",
        "    # Clean the abstract summary text\n",
        "    abstract_summary = re.sub(r'[^\\x00-\\x7F]+', '', abstract_summary)\n",
        "\n",
        "    # Calculate Flesch Reading Ease score\n",
        "    fre_score = textstat.flesch_reading_ease(abstract_summary)\n",
        "\n",
        "    # Append the score to the list\n",
        "    fre_scores.append(fre_score)\n",
        "\n",
        "# Add the FRE scores to the DataFrame\n",
        "df['FRE_Score'] = fre_scores\n",
        "\n",
        "# Save the updated DataFrame to a new Excel file\n",
        "output_file = \"Summary_FRE_Scores_t5_small.xlsx\"\n",
        "df.to_excel(output_file, index=False)\n",
        "\n",
        "# Print the average FRE score\n",
        "print(\"\\nAverage Flesch Reading Ease Score:\", sum(fre_scores) / len(fre_scores))\n"
      ],
      "metadata": {
        "id": "YZVvfOtSk1Tq"
      },
      "execution_count": null,
      "outputs": []
    }
  ]
}