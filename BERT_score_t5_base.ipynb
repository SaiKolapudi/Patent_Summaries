{
  "cells": [
    {
      "cell_type": "code",
      "execution_count": null,
      "metadata": {
        "id": "vJkzS7bg-5bk"
      },
      "outputs": [],
      "source": [
        "import pandas as pd\n",
        "import torch\n",
        "import re\n",
        "from bert_score import score\n",
        "\n",
        "# Load the DataFrame from the Excel file\n",
        "input_file = \"Abstract_Summary_t5_base_file.xlsx\"\n",
        "df = pd.read_excel(input_file)\n",
        "\n",
        "# Define lists to store the BERT metric scores\n",
        "bert_metric_scores = []\n",
        "\n",
        "# Set device to GPU if available\n",
        "device = torch.device(\"cuda\" if torch.cuda.is_available() else \"cpu\")\n",
        "\n",
        "# Iterate over the rows in the DataFrame\n",
        "for index, row in df.iterrows():\n",
        "    # Get the original text and the generated summary\n",
        "    abstract = row['Abstract']\n",
        "\n",
        "    # Clean the abstract and claims text\n",
        "    abstract = re.sub(r'[^\\x00-\\x7F]+', '', str(abstract))\n",
        "\n",
        "    # Combine the cleaned abstract and claims\n",
        "    original_text = abstract\n",
        "    generated_summary = str(row['Abstract_Summary_t5_base'])\n",
        "\n",
        "    # Calculate BERT metric scores\n",
        "    _, _, bert_metric_score = score([generated_summary], [original_text], model_type=\"bert-base-uncased\", device=device)\n",
        "\n",
        "    # Append the score to the BERT metric scores list\n",
        "    bert_metric_scores.append(bert_metric_score.item())\n",
        "\n",
        "# Add the scores to the DataFrame\n",
        "df[\"BERT_Metric_Score\"] = bert_metric_scores\n",
        "\n",
        "# Save the updated DataFrame to a new Excel file\n",
        "output_file = \"Summary_Scores_BERT_metric_t5_base_abstract_total.xlsx\"\n",
        "df.to_excel(output_file, index=False)\n",
        "\n",
        "# Print the average BERT metric score\n",
        "print(\"Average BERT Metric Score:\", sum(bert_metric_scores) / len(bert_metric_scores))\n"
      ]
    },
    {
      "cell_type": "markdown",
      "source": [
        "Output:\n",
        "\n",
        "![image.png](data:image/png;base64,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)"
      ],
      "metadata": {
        "id": "x-yu7eAaOaZ4"
      }
    },
    {
      "cell_type": "code",
      "execution_count": 2,
      "metadata": {
        "id": "6el3QuSFAcnP",
        "colab": {
          "base_uri": "https://localhost:8080/"
        },
        "outputId": "5225dd66-7972-4c00-a200-1bc78145a793"
      },
      "outputs": [
        {
          "output_type": "stream",
          "name": "stdout",
          "text": [
            "Collecting bert_score\n",
            "  Downloading bert_score-0.3.13-py3-none-any.whl (61 kB)\n",
            "\u001b[?25l     \u001b[90m━━━━━━━━━━━━━━━━━━━━━━━━━━━━━━━━━━━━━━━━\u001b[0m \u001b[32m0.0/61.1 kB\u001b[0m \u001b[31m?\u001b[0m eta \u001b[36m-:--:--\u001b[0m\r\u001b[2K     \u001b[90m━━━━━━━━━━━━━━━━━━━━━━━━━━━━━━━━━━━━━━━━\u001b[0m \u001b[32m61.1/61.1 kB\u001b[0m \u001b[31m2.3 MB/s\u001b[0m eta \u001b[36m0:00:00\u001b[0m\n",
            "\u001b[?25hRequirement already satisfied: torch>=1.0.0 in /usr/local/lib/python3.10/dist-packages (from bert_score) (2.0.1+cu118)\n",
            "Requirement already satisfied: pandas>=1.0.1 in /usr/local/lib/python3.10/dist-packages (from bert_score) (1.5.3)\n",
            "Collecting transformers>=3.0.0 (from bert_score)\n",
            "  Downloading transformers-4.30.2-py3-none-any.whl (7.2 MB)\n",
            "\u001b[2K     \u001b[90m━━━━━━━━━━━━━━━━━━━━━━━━━━━━━━━━━━━━━━━━\u001b[0m \u001b[32m7.2/7.2 MB\u001b[0m \u001b[31m53.2 MB/s\u001b[0m eta \u001b[36m0:00:00\u001b[0m\n",
            "\u001b[?25hRequirement already satisfied: numpy in /usr/local/lib/python3.10/dist-packages (from bert_score) (1.22.4)\n",
            "Requirement already satisfied: requests in /usr/local/lib/python3.10/dist-packages (from bert_score) (2.27.1)\n",
            "Requirement already satisfied: tqdm>=4.31.1 in /usr/local/lib/python3.10/dist-packages (from bert_score) (4.65.0)\n",
            "Requirement already satisfied: matplotlib in /usr/local/lib/python3.10/dist-packages (from bert_score) (3.7.1)\n",
            "Requirement already satisfied: packaging>=20.9 in /usr/local/lib/python3.10/dist-packages (from bert_score) (23.1)\n",
            "Requirement already satisfied: python-dateutil>=2.8.1 in /usr/local/lib/python3.10/dist-packages (from pandas>=1.0.1->bert_score) (2.8.2)\n",
            "Requirement already satisfied: pytz>=2020.1 in /usr/local/lib/python3.10/dist-packages (from pandas>=1.0.1->bert_score) (2022.7.1)\n",
            "Requirement already satisfied: filelock in /usr/local/lib/python3.10/dist-packages (from torch>=1.0.0->bert_score) (3.12.2)\n",
            "Requirement already satisfied: typing-extensions in /usr/local/lib/python3.10/dist-packages (from torch>=1.0.0->bert_score) (4.6.3)\n",
            "Requirement already satisfied: sympy in /usr/local/lib/python3.10/dist-packages (from torch>=1.0.0->bert_score) (1.11.1)\n",
            "Requirement already satisfied: networkx in /usr/local/lib/python3.10/dist-packages (from torch>=1.0.0->bert_score) (3.1)\n",
            "Requirement already satisfied: jinja2 in /usr/local/lib/python3.10/dist-packages (from torch>=1.0.0->bert_score) (3.1.2)\n",
            "Requirement already satisfied: triton==2.0.0 in /usr/local/lib/python3.10/dist-packages (from torch>=1.0.0->bert_score) (2.0.0)\n",
            "Requirement already satisfied: cmake in /usr/local/lib/python3.10/dist-packages (from triton==2.0.0->torch>=1.0.0->bert_score) (3.25.2)\n",
            "Requirement already satisfied: lit in /usr/local/lib/python3.10/dist-packages (from triton==2.0.0->torch>=1.0.0->bert_score) (16.0.6)\n",
            "Collecting huggingface-hub<1.0,>=0.14.1 (from transformers>=3.0.0->bert_score)\n",
            "  Downloading huggingface_hub-0.15.1-py3-none-any.whl (236 kB)\n",
            "\u001b[2K     \u001b[90m━━━━━━━━━━━━━━━━━━━━━━━━━━━━━━━━━━━━━━\u001b[0m \u001b[32m236.8/236.8 kB\u001b[0m \u001b[31m19.2 MB/s\u001b[0m eta \u001b[36m0:00:00\u001b[0m\n",
            "\u001b[?25hRequirement already satisfied: pyyaml>=5.1 in /usr/local/lib/python3.10/dist-packages (from transformers>=3.0.0->bert_score) (6.0)\n",
            "Requirement already satisfied: regex!=2019.12.17 in /usr/local/lib/python3.10/dist-packages (from transformers>=3.0.0->bert_score) (2022.10.31)\n",
            "Collecting tokenizers!=0.11.3,<0.14,>=0.11.1 (from transformers>=3.0.0->bert_score)\n",
            "  Downloading tokenizers-0.13.3-cp310-cp310-manylinux_2_17_x86_64.manylinux2014_x86_64.whl (7.8 MB)\n",
            "\u001b[2K     \u001b[90m━━━━━━━━━━━━━━━━━━━━━━━━━━━━━━━━━━━━━━━━\u001b[0m \u001b[32m7.8/7.8 MB\u001b[0m \u001b[31m87.4 MB/s\u001b[0m eta \u001b[36m0:00:00\u001b[0m\n",
            "\u001b[?25hCollecting safetensors>=0.3.1 (from transformers>=3.0.0->bert_score)\n",
            "  Downloading safetensors-0.3.1-cp310-cp310-manylinux_2_17_x86_64.manylinux2014_x86_64.whl (1.3 MB)\n",
            "\u001b[2K     \u001b[90m━━━━━━━━━━━━━━━━━━━━━━━━━━━━━━━━━━━━━━━━\u001b[0m \u001b[32m1.3/1.3 MB\u001b[0m \u001b[31m48.9 MB/s\u001b[0m eta \u001b[36m0:00:00\u001b[0m\n",
            "\u001b[?25hRequirement already satisfied: contourpy>=1.0.1 in /usr/local/lib/python3.10/dist-packages (from matplotlib->bert_score) (1.1.0)\n",
            "Requirement already satisfied: cycler>=0.10 in /usr/local/lib/python3.10/dist-packages (from matplotlib->bert_score) (0.11.0)\n",
            "Requirement already satisfied: fonttools>=4.22.0 in /usr/local/lib/python3.10/dist-packages (from matplotlib->bert_score) (4.40.0)\n",
            "Requirement already satisfied: kiwisolver>=1.0.1 in /usr/local/lib/python3.10/dist-packages (from matplotlib->bert_score) (1.4.4)\n",
            "Requirement already satisfied: pillow>=6.2.0 in /usr/local/lib/python3.10/dist-packages (from matplotlib->bert_score) (8.4.0)\n",
            "Requirement already satisfied: pyparsing>=2.3.1 in /usr/local/lib/python3.10/dist-packages (from matplotlib->bert_score) (3.1.0)\n",
            "Requirement already satisfied: urllib3<1.27,>=1.21.1 in /usr/local/lib/python3.10/dist-packages (from requests->bert_score) (1.26.16)\n",
            "Requirement already satisfied: certifi>=2017.4.17 in /usr/local/lib/python3.10/dist-packages (from requests->bert_score) (2023.5.7)\n",
            "Requirement already satisfied: charset-normalizer~=2.0.0 in /usr/local/lib/python3.10/dist-packages (from requests->bert_score) (2.0.12)\n",
            "Requirement already satisfied: idna<4,>=2.5 in /usr/local/lib/python3.10/dist-packages (from requests->bert_score) (3.4)\n",
            "Requirement already satisfied: fsspec in /usr/local/lib/python3.10/dist-packages (from huggingface-hub<1.0,>=0.14.1->transformers>=3.0.0->bert_score) (2023.6.0)\n",
            "Requirement already satisfied: six>=1.5 in /usr/local/lib/python3.10/dist-packages (from python-dateutil>=2.8.1->pandas>=1.0.1->bert_score) (1.16.0)\n",
            "Requirement already satisfied: MarkupSafe>=2.0 in /usr/local/lib/python3.10/dist-packages (from jinja2->torch>=1.0.0->bert_score) (2.1.3)\n",
            "Requirement already satisfied: mpmath>=0.19 in /usr/local/lib/python3.10/dist-packages (from sympy->torch>=1.0.0->bert_score) (1.3.0)\n",
            "Installing collected packages: tokenizers, safetensors, huggingface-hub, transformers, bert_score\n",
            "Successfully installed bert_score-0.3.13 huggingface-hub-0.15.1 safetensors-0.3.1 tokenizers-0.13.3 transformers-4.30.2\n"
          ]
        }
      ],
      "source": [
        "!pip install bert_score"
      ]
    },
    {
      "cell_type": "code",
      "source": [
        "import pandas as pd\n",
        "import torch\n",
        "import re\n",
        "from bert_score import score\n",
        "\n",
        "# Load the DataFrame from the Excel file\n",
        "input_file = \"Claims_Summary_t5_base_file.xlsx\"\n",
        "df = pd.read_excel(input_file)\n",
        "\n",
        "# Define lists to store the BERT metric scores\n",
        "bert_metric_scores = []\n",
        "\n",
        "# Set device to GPU if available\n",
        "device = torch.device(\"cuda\" if torch.cuda.is_available() else \"cpu\")\n",
        "\n",
        "# Iterate over the rows in the DataFrame\n",
        "for index, row in df.iterrows():\n",
        "    # Get the original text and the generated summary\n",
        "    abstract = row['Claims']\n",
        "\n",
        "    # Clean the abstract and claims text\n",
        "    abstract = re.sub(r'[^\\x00-\\x7F]+', '', str(abstract))\n",
        "\n",
        "    # Combine the cleaned abstract and claims\n",
        "    original_text = abstract\n",
        "    generated_summary = str(row['Claims_Summary_t5_base'])\n",
        "\n",
        "    # Calculate BERT metric scores\n",
        "    _, _, bert_metric_score = score([generated_summary], [original_text], model_type=\"bert-base-uncased\", device=device)\n",
        "\n",
        "    # Append the score to the BERT metric scores list\n",
        "    bert_metric_scores.append(bert_metric_score.item())\n",
        "\n",
        "# Add the scores to the DataFrame\n",
        "df[\"BERT_Metric_Score\"] = bert_metric_scores\n",
        "\n",
        "# Save the updated DataFrame to a new Excel file\n",
        "output_file = \"Summary_Scores_BERT_metric_t5_base_claims_total.xlsx\"\n",
        "df.to_excel(output_file, index=False)\n",
        "\n",
        "# Print the average BERT metric score\n",
        "print(\"Average BERT Metric Score:\", sum(bert_metric_scores) / len(bert_metric_scores))\n"
      ],
      "metadata": {
        "id": "f2Bm_XDAwSdh"
      },
      "execution_count": null,
      "outputs": []
    },
    {
      "cell_type": "markdown",
      "source": [
        "OUtput : executed in the server\n",
        "\n",
        "![image.png](data:image/png;base64,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)"
      ],
      "metadata": {
        "id": "n2BNgdIf_EmD"
      }
    },
    {
      "cell_type": "code",
      "source": [
        "import pandas as pd\n",
        "import torch\n",
        "import re\n",
        "from bert_score import score\n",
        "from tqdm import tqdm\n",
        "\n",
        "# Load the DataFrame from the Excel file\n",
        "input_file = \"Combined_Google_patent_Summary_t5_base_file.xlsx\"\n",
        "df = pd.read_excel(input_file)\n",
        "\n",
        "# Define lists to store the BERT metric scores\n",
        "bert_metric_scores = []\n",
        "\n",
        "# Set device to GPU if available\n",
        "device = torch.device(\"cuda\" if torch.cuda.is_available() else \"cpu\")\n",
        "\n",
        "# Create a progress bar\n",
        "progress_bar = tqdm(total=len(df), desc=\"Processing\")\n",
        "\n",
        "# Iterate over the rows in the DataFrame\n",
        "for index, row in df.iterrows():\n",
        "    # Get the original text and the generated summary\n",
        "    abstract = row['Abstract_Summary_t5_base']\n",
        "    claims = row['Claims_Summary_t5_base']\n",
        "\n",
        "    # Clean the abstract and claims text\n",
        "    abstract = re.sub(r'[^\\x00-\\x7F]+', '', str(abstract))\n",
        "    claims = re.sub(r'[^\\x00-\\x7F]+', '', str(claims))\n",
        "\n",
        "    # Combine the cleaned abstract and claims\n",
        "    original_text = abstract+' '+claims\n",
        "    generated_summary = str(row['Combined_Summary'])\n",
        "\n",
        "    # Calculate BERT metric scores\n",
        "    _, _, bert_metric_score = score([generated_summary], [original_text], model_type=\"bert-base-uncased\", device=device)\n",
        "\n",
        "    # Append the score to the BERT metric scores list\n",
        "    bert_metric_scores.append(bert_metric_score.item())\n",
        "\n",
        "    # Update the progress bar\n",
        "    progress_bar.update(1)\n",
        "\n",
        "# Close the progress bar\n",
        "progress_bar.close()\n",
        "\n",
        "# Add the scores to the DataFrame\n",
        "df[\"BERT_Metric_Score\"] = bert_metric_scores\n",
        "\n",
        "# Save the updated DataFrame to a new Excel file\n",
        "output_file = \"Summary_Scores_BERT_metric_t5_base_total_combined.xlsx\"\n",
        "df.to_excel(output_file, index=False)\n",
        "\n",
        "# Print the average BERT metric score\n",
        "print(\"Average BERT Metric Score:\", sum(bert_metric_scores) / len(bert_metric_scores))\n"
      ],
      "metadata": {
        "id": "AaVbLIWifXN1"
      },
      "execution_count": null,
      "outputs": []
    },
    {
      "cell_type": "markdown",
      "source": [
        "Output : executed in the server\n",
        "\n",
        "![image.png](data:image/png;base64,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)"
      ],
      "metadata": {
        "id": "CxbQHzGN-9Uy"
      }
    },
    {
      "cell_type": "code",
      "source": [],
      "metadata": {
        "id": "8bS4uDAc_AUL"
      },
      "execution_count": null,
      "outputs": []
    },
    {
      "cell_type": "code",
      "source": [],
      "metadata": {
        "id": "1EoWMjdX7Mdz"
      },
      "execution_count": null,
      "outputs": []
    }
  ],
  "metadata": {
    "colab": {
      "provenance": []
    },
    "kernelspec": {
      "display_name": "Python 3",
      "name": "python3"
    },
    "language_info": {
      "name": "python"
    }
  },
  "nbformat": 4,
  "nbformat_minor": 0
}